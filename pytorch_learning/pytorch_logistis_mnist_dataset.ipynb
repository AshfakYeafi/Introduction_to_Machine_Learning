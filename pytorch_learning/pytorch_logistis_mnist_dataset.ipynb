{
 "cells": [
  {
   "cell_type": "code",
   "execution_count": 1,
   "id": "d50b0688",
   "metadata": {},
   "outputs": [],
   "source": [
    "import torch\n",
    "import numpy as np\n",
    "import torchvision\n",
    "from torchvision.datasets import MNIST"
   ]
  },
  {
   "cell_type": "code",
   "execution_count": 2,
   "id": "81cd9ab1",
   "metadata": {},
   "outputs": [],
   "source": [
    "dataset=MNIST(root=\"data/\",download=True)"
   ]
  },
  {
   "cell_type": "code",
   "execution_count": 3,
   "id": "6f5039d8",
   "metadata": {},
   "outputs": [
    {
     "data": {
      "text/plain": [
       "60000"
      ]
     },
     "execution_count": 3,
     "metadata": {},
     "output_type": "execute_result"
    }
   ],
   "source": [
    "len(dataset)"
   ]
  },
  {
   "cell_type": "code",
   "execution_count": 4,
   "id": "b8d19502",
   "metadata": {},
   "outputs": [],
   "source": [
    "test_dataset=MNIST(root=\"data/\",train=False)"
   ]
  },
  {
   "cell_type": "code",
   "execution_count": 5,
   "id": "7e9cc3a1",
   "metadata": {},
   "outputs": [
    {
     "data": {
      "text/plain": [
       "10000"
      ]
     },
     "execution_count": 5,
     "metadata": {},
     "output_type": "execute_result"
    }
   ],
   "source": [
    "len(test_dataset)"
   ]
  },
  {
   "cell_type": "code",
   "execution_count": 6,
   "id": "554d121d",
   "metadata": {},
   "outputs": [
    {
     "data": {
      "text/plain": [
       "(<PIL.Image.Image image mode=L size=28x28 at 0x7F1A58E2BF40>, 5)"
      ]
     },
     "execution_count": 6,
     "metadata": {},
     "output_type": "execute_result"
    }
   ],
   "source": [
    "dataset[0]"
   ]
  },
  {
   "cell_type": "code",
   "execution_count": 7,
   "id": "a44fcdc1",
   "metadata": {},
   "outputs": [],
   "source": [
    "import matplotlib.pyplot as plt\n",
    "%matplotlib inline"
   ]
  },
  {
   "cell_type": "code",
   "execution_count": 8,
   "id": "bbcffde5",
   "metadata": {},
   "outputs": [],
   "source": [
    "image,lable=dataset[45]"
   ]
  },
  {
   "cell_type": "code",
   "execution_count": 9,
   "id": "9d28ac32",
   "metadata": {},
   "outputs": [
    {
     "name": "stdout",
     "output_type": "stream",
     "text": [
      "9\n"
     ]
    },
    {
     "data": {
      "image/png": "[encoded data removed]",
      "text/plain": [
       "<Figure size 432x288 with 1 Axes>"
      ]
     },
     "metadata": {
      "needs_background": "light"
     },
     "output_type": "display_data"
    }
   ],
   "source": [
    "plt.imshow(image,cmap='gray')\n",
    "print(lable)"
   ]
  },
  {
   "cell_type": "code",
   "execution_count": 10,
   "id": "9b8ce8df",
   "metadata": {},
   "outputs": [],
   "source": [
    "from torchvision.transforms import transforms"
   ]
  },
  {
   "cell_type": "code",
   "execution_count": 11,
   "id": "fc93f990",
   "metadata": {},
   "outputs": [],
   "source": [
    "dataset=MNIST(root=\"data/\",transform=transforms.ToTensor())"
   ]
  },
  {
   "cell_type": "code",
   "execution_count": 12,
   "id": "e439be88",
   "metadata": {},
   "outputs": [],
   "source": [
    "img_tensor,lable=dataset[0]"
   ]
  },
  {
   "cell_type": "code",
   "execution_count": 13,
   "id": "7249f90f",
   "metadata": {},
   "outputs": [
    {
     "data": {
      "text/plain": [
       "torch.Size([1, 28, 28])"
      ]
     },
     "execution_count": 13,
     "metadata": {},
     "output_type": "execute_result"
    }
   ],
   "source": [
    "img_tensor.shape"
   ]
  },
  {
   "cell_type": "code",
   "execution_count": 14,
   "id": "3aff42cb",
   "metadata": {},
   "outputs": [
    {
     "data": {
      "text/plain": [
       "5"
      ]
     },
     "execution_count": 14,
     "metadata": {},
     "output_type": "execute_result"
    }
   ],
   "source": [
    "lable"
   ]
  },
  {
   "cell_type": "code",
   "execution_count": 15,
   "id": "e0cbaf82",
   "metadata": {},
   "outputs": [],
   "source": [
    "# plt.imshow(img_tensor)"
   ]
  },
  {
   "cell_type": "code",
   "execution_count": 16,
   "id": "60261c9b",
   "metadata": {},
   "outputs": [
    {
     "name": "stdout",
     "output_type": "stream",
     "text": [
      "tensor([[[0.0039, 0.6039, 0.9922, 0.3529, 0.0000],\n",
      "         [0.0000, 0.5451, 0.9922, 0.7451, 0.0078],\n",
      "         [0.0000, 0.0431, 0.7451, 0.9922, 0.2745],\n",
      "         [0.0000, 0.0000, 0.1373, 0.9451, 0.8824],\n",
      "         [0.0000, 0.0000, 0.0000, 0.3176, 0.9412]]])\n",
      "tensor(1.) tensor(0.)\n"
     ]
    }
   ],
   "source": [
    "print(img_tensor[:,10:15,10:15])\n",
    "print(torch.max(img_tensor),torch.min(img_tensor))"
   ]
  },
  {
   "cell_type": "code",
   "execution_count": 17,
   "id": "f609f2f9",
   "metadata": {},
   "outputs": [
    {
     "data": {
      "text/plain": [
       "<matplotlib.image.AxesImage at 0x7f1a5002d340>"
      ]
     },
     "execution_count": 17,
     "metadata": {},
     "output_type": "execute_result"
    },
    {
     "data": {
      "image/png": "[encoded data removed]",
      "text/plain": [
       "<Figure size 432x288 with 1 Axes>"
      ]
     },
     "metadata": {
      "needs_background": "light"
     },
     "output_type": "display_data"
    }
   ],
   "source": [
    "plt.imshow(img_tensor[0,:,:],cmap='gray')"
   ]
  },
  {
   "cell_type": "code",
   "execution_count": 18,
   "id": "a2372af5",
   "metadata": {},
   "outputs": [
    {
     "data": {
      "text/plain": [
       "<matplotlib.image.AxesImage at 0x7f1a4bffb0d0>"
      ]
     },
     "execution_count": 18,
     "metadata": {},
     "output_type": "execute_result"
    },
    {
     "data": {
      "image/png": "[encoded data removed]",
      "text/plain": [
       "<Figure size 432x288 with 1 Axes>"
      ]
     },
     "metadata": {
      "needs_background": "light"
     },
     "output_type": "display_data"
    }
   ],
   "source": [
    "plt.imshow(img_tensor[0,10:28,10:28],cmap='gray')"
   ]
  },
  {
   "cell_type": "code",
   "execution_count": 19,
   "id": "362cb787",
   "metadata": {},
   "outputs": [],
   "source": [
    "from torch.utils.data import random_split\n",
    "train_ds,val_ds=random_split(dataset,[50000,10000])"
   ]
  },
  {
   "cell_type": "code",
   "execution_count": 20,
   "id": "7092db0b",
   "metadata": {},
   "outputs": [
    {
     "name": "stdout",
     "output_type": "stream",
     "text": [
      "50000 10000\n"
     ]
    }
   ],
   "source": [
    "print(len(train_ds),len(val_ds))"
   ]
  },
  {
   "cell_type": "code",
   "execution_count": 21,
   "id": "9a56bcb5",
   "metadata": {},
   "outputs": [],
   "source": [
    "# ?random_split"
   ]
  },
  {
   "cell_type": "code",
   "execution_count": 22,
   "id": "7c575534",
   "metadata": {},
   "outputs": [],
   "source": [
    "from torch.utils.data import DataLoader"
   ]
  },
  {
   "cell_type": "code",
   "execution_count": 23,
   "id": "9b19b6b4",
   "metadata": {},
   "outputs": [],
   "source": [
    "batch_size=128\n",
    "train_loader=DataLoader(train_ds,batch_size,shuffle=True)\n",
    "val_loader=DataLoader(val_ds,batch_size)"
   ]
  },
  {
   "cell_type": "code",
   "execution_count": 24,
   "id": "4655d1bd",
   "metadata": {},
   "outputs": [],
   "source": [
    "import torch.nn as nn"
   ]
  },
  {
   "cell_type": "code",
   "execution_count": 25,
   "id": "20b2ccc5",
   "metadata": {},
   "outputs": [],
   "source": [
    "input_size=28*28*1\n",
    "num_classes=10\n",
    "model=nn.Linear(input_size,num_classes)"
   ]
  },
  {
   "cell_type": "code",
   "execution_count": 26,
   "id": "1db18906",
   "metadata": {},
   "outputs": [
    {
     "name": "stdout",
     "output_type": "stream",
     "text": [
      "Parameter containing:\n",
      "tensor([[-2.0895e-02,  3.0517e-02, -1.7244e-02,  ..., -7.8107e-03,\n",
      "          1.5433e-02, -2.4329e-02],\n",
      "        [-2.4303e-02, -1.1792e-02,  1.0349e-02,  ...,  8.7193e-05,\n",
      "          5.8556e-03, -6.7801e-03],\n",
      "        [ 2.8788e-02, -4.5600e-03, -1.6493e-03,  ..., -3.0570e-02,\n",
      "          3.0955e-02,  7.5162e-03],\n",
      "        ...,\n",
      "        [ 3.2949e-02,  7.3646e-03, -4.5361e-03,  ...,  1.7609e-02,\n",
      "         -3.4302e-02, -3.4834e-03],\n",
      "        [ 2.8752e-03, -2.4102e-02, -8.6137e-03,  ...,  3.5428e-03,\n",
      "          3.2597e-02, -3.0782e-02],\n",
      "        [-2.7804e-02,  1.1439e-02,  3.6525e-03,  ...,  1.1376e-02,\n",
      "          2.7002e-02,  2.0787e-02]], requires_grad=True)\n"
     ]
    }
   ],
   "source": [
    "print(model.weight)"
   ]
  },
  {
   "cell_type": "code",
   "execution_count": 27,
   "id": "109e70ca",
   "metadata": {},
   "outputs": [
    {
     "name": "stdout",
     "output_type": "stream",
     "text": [
      "Parameter containing:\n",
      "tensor([-0.0196,  0.0276, -0.0010,  0.0292, -0.0287, -0.0121, -0.0119,  0.0353,\n",
      "         0.0177, -0.0131], requires_grad=True)\n"
     ]
    }
   ],
   "source": [
    "print(model.bias)"
   ]
  },
  {
   "cell_type": "code",
   "execution_count": 28,
   "id": "4c31d800",
   "metadata": {},
   "outputs": [],
   "source": [
    "# for images, labels in train_loader:\n",
    "#     print(labels)\n",
    "#     print(images.shape)\n",
    "#     outputs = model(images)\n",
    "#     print(outputs)\n",
    "#     break"
   ]
  },
  {
   "cell_type": "code",
   "execution_count": 29,
   "id": "c5cbe568",
   "metadata": {},
   "outputs": [
    {
     "name": "stdout",
     "output_type": "stream",
     "text": [
      "784\n",
      "10\n"
     ]
    }
   ],
   "source": [
    "class MnistModel(nn.Module):\n",
    "    def __init__(self):\n",
    "        super().__init__()\n",
    "        self.liner=nn.Linear(input_size,num_classes)\n",
    "    def forward(self,xb):\n",
    "        xb=xb.reshape(-1,784)\n",
    "        out=self.liner(xb)\n",
    "        return out\n",
    "print(input_size)\n",
    "print(num_classes)"
   ]
  },
  {
   "cell_type": "code",
   "execution_count": 30,
   "id": "3b9e1708",
   "metadata": {},
   "outputs": [],
   "source": [
    "model=MnistModel()"
   ]
  },
  {
   "cell_type": "code",
   "execution_count": 31,
   "id": "52a368ef",
   "metadata": {},
   "outputs": [
    {
     "data": {
      "text/plain": [
       "Parameter containing:\n",
       "tensor([[ 0.0207,  0.0165,  0.0267,  ..., -0.0079,  0.0039, -0.0086],\n",
       "        [ 0.0315,  0.0256,  0.0251,  ...,  0.0266,  0.0148, -0.0324],\n",
       "        [-0.0187,  0.0116,  0.0111,  ..., -0.0357, -0.0266,  0.0036],\n",
       "        ...,\n",
       "        [-0.0317, -0.0228,  0.0040,  ...,  0.0177, -0.0090, -0.0342],\n",
       "        [ 0.0197,  0.0089, -0.0170,  ..., -0.0353, -0.0237,  0.0170],\n",
       "        [ 0.0169,  0.0196,  0.0086,  ..., -0.0003, -0.0027, -0.0079]],\n",
       "       requires_grad=True)"
      ]
     },
     "execution_count": 31,
     "metadata": {},
     "output_type": "execute_result"
    }
   ],
   "source": [
    "model.liner.weight"
   ]
  },
  {
   "cell_type": "code",
   "execution_count": 32,
   "id": "7c8ef68d",
   "metadata": {},
   "outputs": [
    {
     "data": {
      "text/plain": [
       "Parameter containing:\n",
       "tensor([-0.0036,  0.0036, -0.0043,  0.0296,  0.0112,  0.0346, -0.0187,  0.0217,\n",
       "        -0.0287,  0.0007], requires_grad=True)"
      ]
     },
     "execution_count": 32,
     "metadata": {},
     "output_type": "execute_result"
    }
   ],
   "source": [
    "model.liner.bias"
   ]
  },
  {
   "cell_type": "code",
   "execution_count": 33,
   "id": "49c57c07",
   "metadata": {},
   "outputs": [
    {
     "data": {
      "text/plain": [
       "[Parameter containing:\n",
       " tensor([[ 0.0207,  0.0165,  0.0267,  ..., -0.0079,  0.0039, -0.0086],\n",
       "         [ 0.0315,  0.0256,  0.0251,  ...,  0.0266,  0.0148, -0.0324],\n",
       "         [-0.0187,  0.0116,  0.0111,  ..., -0.0357, -0.0266,  0.0036],\n",
       "         ...,\n",
       "         [-0.0317, -0.0228,  0.0040,  ...,  0.0177, -0.0090, -0.0342],\n",
       "         [ 0.0197,  0.0089, -0.0170,  ..., -0.0353, -0.0237,  0.0170],\n",
       "         [ 0.0169,  0.0196,  0.0086,  ..., -0.0003, -0.0027, -0.0079]],\n",
       "        requires_grad=True),\n",
       " Parameter containing:\n",
       " tensor([-0.0036,  0.0036, -0.0043,  0.0296,  0.0112,  0.0346, -0.0187,  0.0217,\n",
       "         -0.0287,  0.0007], requires_grad=True)]"
      ]
     },
     "execution_count": 33,
     "metadata": {},
     "output_type": "execute_result"
    }
   ],
   "source": [
    "list(model.parameters())"
   ]
  },
  {
   "cell_type": "code",
   "execution_count": null,
   "id": "43028116",
   "metadata": {},
   "outputs": [],
   "source": []
  },
  {
   "cell_type": "code",
   "execution_count": 34,
   "id": "40d0dc5d",
   "metadata": {},
   "outputs": [
    {
     "name": "stdout",
     "output_type": "stream",
     "text": [
      "torch.Size([128, 1, 28, 28])\n",
      "torch.Size([128, 10])\n"
     ]
    }
   ],
   "source": [
    "for images,labels in train_loader:\n",
    "    print(images.shape)\n",
    "    output=model(images)\n",
    "    print(output.shape)\n",
    "    break"
   ]
  },
  {
   "cell_type": "code",
   "execution_count": 35,
   "id": "35ad30e2",
   "metadata": {},
   "outputs": [
    {
     "name": "stdout",
     "output_type": "stream",
     "text": [
      "outputs.shape :  torch.Size([128, 10])\n",
      "Sample outputs :\n",
      " tensor([[ 0.0108, -0.3705,  0.1560, -0.0728,  0.1066,  0.0037, -0.6705, -0.0169,\n",
      "         -0.2148,  0.6215],\n",
      "        [ 0.0807, -0.0029, -0.1092,  0.0077,  0.0107,  0.2103, -0.2319, -0.0575,\n",
      "         -0.3357,  0.2942]])\n"
     ]
    }
   ],
   "source": [
    "print('outputs.shape : ', output.shape)\n",
    "print('Sample outputs :\\n', output[:2].data)"
   ]
  },
  {
   "cell_type": "code",
   "execution_count": 36,
   "id": "31b31e5d",
   "metadata": {},
   "outputs": [
    {
     "name": "stdout",
     "output_type": "stream",
     "text": [
      "\u001b[H\u001b[2J"
     ]
    }
   ],
   "source": [
    "!clear"
   ]
  },
  {
   "cell_type": "code",
   "execution_count": 37,
   "id": "dda51dac",
   "metadata": {},
   "outputs": [],
   "source": [
    "import torch.nn.functional as F"
   ]
  },
  {
   "cell_type": "code",
   "execution_count": 38,
   "id": "c9502b37",
   "metadata": {},
   "outputs": [],
   "source": [
    "probs=F.softmax(output,dim=1)"
   ]
  },
  {
   "cell_type": "code",
   "execution_count": 39,
   "id": "d150ef0d",
   "metadata": {},
   "outputs": [
    {
     "data": {
      "text/plain": [
       "torch.Size([128, 10])"
      ]
     },
     "execution_count": 39,
     "metadata": {},
     "output_type": "execute_result"
    }
   ],
   "source": [
    "probs.shape"
   ]
  },
  {
   "cell_type": "code",
   "execution_count": 40,
   "id": "775a4673",
   "metadata": {},
   "outputs": [],
   "source": [
    "max_probs,pred=torch.max(probs,dim=1)"
   ]
  },
  {
   "cell_type": "code",
   "execution_count": 41,
   "id": "fdf75192",
   "metadata": {},
   "outputs": [
    {
     "data": {
      "text/plain": [
       "tensor([0.1847, 0.1339, 0.1891, 0.1379, 0.1204, 0.1368, 0.1364, 0.1472, 0.1375,\n",
       "        0.1193, 0.1363, 0.2100, 0.1445, 0.1465, 0.1455, 0.1460, 0.1419, 0.1695,\n",
       "        0.1328, 0.1340, 0.1306, 0.1504, 0.1299, 0.1335, 0.1410, 0.1584, 0.1400,\n",
       "        0.1367, 0.1331, 0.1302, 0.1342, 0.1512, 0.1405, 0.1660, 0.1721, 0.1279,\n",
       "        0.1479, 0.1430, 0.1676, 0.1587, 0.1483, 0.1643, 0.1235, 0.1201, 0.1528,\n",
       "        0.1559, 0.1870, 0.1607, 0.1230, 0.1307, 0.1694, 0.1768, 0.1225, 0.1345,\n",
       "        0.1639, 0.1205, 0.1294, 0.1326, 0.1389, 0.1486, 0.1528, 0.1617, 0.1238,\n",
       "        0.1146, 0.1151, 0.1253, 0.1651, 0.1477, 0.1256, 0.1726, 0.1305, 0.1390,\n",
       "        0.2050, 0.1704, 0.1498, 0.1570, 0.1349, 0.1517, 0.1309, 0.1325, 0.1351,\n",
       "        0.1157, 0.1570, 0.1266, 0.1653, 0.1388, 0.1259, 0.1269, 0.1205, 0.1353,\n",
       "        0.1473, 0.1195, 0.1368, 0.1445, 0.1564, 0.1528, 0.1789, 0.1266, 0.1380,\n",
       "        0.1421, 0.1302, 0.1273, 0.1309, 0.1993, 0.1435, 0.1610, 0.1228, 0.1400,\n",
       "        0.1167, 0.1314, 0.1534, 0.1439, 0.1161, 0.1266, 0.1460, 0.1507, 0.1499,\n",
       "        0.1287, 0.1484, 0.1325, 0.1450, 0.1431, 0.1217, 0.1274, 0.1139, 0.1760,\n",
       "        0.1427, 0.1341], grad_fn=<MaxBackward0>)"
      ]
     },
     "execution_count": 41,
     "metadata": {},
     "output_type": "execute_result"
    }
   ],
   "source": [
    "max_probs"
   ]
  },
  {
   "cell_type": "code",
   "execution_count": 42,
   "id": "0600ce0a",
   "metadata": {},
   "outputs": [
    {
     "data": {
      "text/plain": [
       "torch.Size([128])"
      ]
     },
     "execution_count": 42,
     "metadata": {},
     "output_type": "execute_result"
    }
   ],
   "source": [
    "pred.shape"
   ]
  },
  {
   "cell_type": "code",
   "execution_count": 43,
   "id": "7147509b",
   "metadata": {},
   "outputs": [
    {
     "data": {
      "text/plain": [
       "torch.Size([128])"
      ]
     },
     "execution_count": 43,
     "metadata": {},
     "output_type": "execute_result"
    }
   ],
   "source": [
    "labels.shape"
   ]
  },
  {
   "cell_type": "code",
   "execution_count": 44,
   "id": "72db7e47",
   "metadata": {},
   "outputs": [
    {
     "data": {
      "text/plain": [
       "tensor([[ 0.0108, -0.3705,  0.1560, -0.0728,  0.1066,  0.0037, -0.6705, -0.0169,\n",
       "         -0.2148,  0.6215],\n",
       "        [ 0.0807, -0.0029, -0.1092,  0.0077,  0.0107,  0.2103, -0.2319, -0.0575,\n",
       "         -0.3357,  0.2942]], grad_fn=<SliceBackward0>)"
      ]
     },
     "execution_count": 44,
     "metadata": {},
     "output_type": "execute_result"
    }
   ],
   "source": [
    "output[:2]"
   ]
  },
  {
   "cell_type": "code",
   "execution_count": 45,
   "id": "78505b10",
   "metadata": {},
   "outputs": [
    {
     "data": {
      "text/plain": [
       "tensor(5)"
      ]
     },
     "execution_count": 45,
     "metadata": {},
     "output_type": "execute_result"
    }
   ],
   "source": [
    "torch.sum(pred==labels)"
   ]
  },
  {
   "cell_type": "code",
   "execution_count": 46,
   "id": "27ac23b5",
   "metadata": {},
   "outputs": [],
   "source": [
    "def accuracy(output,labels):\n",
    "    _,pred=torch.max(output,dim=1)\n",
    "    return torch.tensor(torch.sum(pred==labels).item()/len(pred))"
   ]
  },
  {
   "cell_type": "code",
   "execution_count": 47,
   "id": "dcda818d",
   "metadata": {},
   "outputs": [
    {
     "data": {
      "text/plain": [
       "tensor(0.0391)"
      ]
     },
     "execution_count": 47,
     "metadata": {},
     "output_type": "execute_result"
    }
   ],
   "source": [
    "accuracy(output,labels)"
   ]
  },
  {
   "cell_type": "code",
   "execution_count": 48,
   "id": "adacb742",
   "metadata": {},
   "outputs": [],
   "source": [
    "loss_fn=F.cross_entropy"
   ]
  },
  {
   "cell_type": "code",
   "execution_count": 49,
   "id": "aceff3ea",
   "metadata": {},
   "outputs": [],
   "source": [
    "# ?F.cross_entropy"
   ]
  },
  {
   "cell_type": "code",
   "execution_count": 50,
   "id": "6b663186",
   "metadata": {},
   "outputs": [
    {
     "data": {
      "text/plain": [
       "tensor(2.3549, grad_fn=<NllLossBackward0>)"
      ]
     },
     "execution_count": 50,
     "metadata": {},
     "output_type": "execute_result"
    }
   ],
   "source": [
    "loss=loss_fn(output,labels)\n",
    "loss"
   ]
  },
  {
   "cell_type": "code",
   "execution_count": 51,
   "id": "1bb1637d",
   "metadata": {},
   "outputs": [],
   "source": [
    "# ?nn.Module"
   ]
  },
  {
   "cell_type": "code",
   "execution_count": null,
   "id": "3d5425fa",
   "metadata": {},
   "outputs": [],
   "source": []
  },
  {
   "cell_type": "code",
   "execution_count": 52,
   "id": "aebea288",
   "metadata": {},
   "outputs": [],
   "source": [
    "class MnistModel(nn.Module):\n",
    "    def __init__(self):\n",
    "        super().__init__()\n",
    "        self.linier=nn.Linear(input_size,num_classes)\n",
    "    def forward(self,xb):\n",
    "        xb=xb.reshape(-1,784)\n",
    "        out=self.linier(xb)\n",
    "        return out\n",
    "    def traning_step(self,batch):\n",
    "        image,label=batch\n",
    "        out=self(image)\n",
    "        loss=F.cross_entropy(out,label)\n",
    "        return loss\n",
    "    def validation_step(self,batch):\n",
    "        image,label=batch\n",
    "        out=self(image)\n",
    "        loss=F.cross_entropy(out,label)\n",
    "        acc=accuracy(out,label)\n",
    "        return {'val_loss':loss,'val_acc':acc}\n",
    "    def validation_epoch_end(self,output):\n",
    "        batch_losses=[x['val_loss'] for x in output]\n",
    "        ecops_loss=torch.stack(batch_losses).mean()\n",
    "        batch_acc=[x['val_acc'] for x in output]\n",
    "        ecops_acc=torch.stack(batch_acc).mean()\n",
    "        return {'val_loss':ecops_loss.item(),'val_acc':ecops_acc.item()}\n",
    "    def ecoph_end(self, epoch, result):\n",
    "        print(\"Epoch [{}], val_loss: {:.4f}, val_acc: {:.4f}\".format(epoch, result['val_loss'], result['val_acc']))\n"
   ]
  },
  {
   "cell_type": "code",
   "execution_count": 53,
   "id": "438c80d3",
   "metadata": {},
   "outputs": [],
   "source": [
    "def evaluate(model, val_loader):\n",
    "    outputs = [model.validation_step(batch) for batch in val_loader]\n",
    "    return model.validation_epoch_end(outputs)"
   ]
  },
  {
   "cell_type": "code",
   "execution_count": 54,
   "id": "c6bd5688",
   "metadata": {},
   "outputs": [],
   "source": [
    "def fit(ecops,lr,model,train_loder,val_loder,opt_fnc=torch.optim.SGD):\n",
    "    optimizer=opt_fnc(model.parameters(),lr)\n",
    "    history=[]\n",
    "    \n",
    "    for ecop in range(ecops):\n",
    "        for batch in train_loader:\n",
    "            loss=model.traning_step(batch)\n",
    "            loss.backward()\n",
    "            optimizer.step()\n",
    "            optimizer.zero_grad()\n",
    "            \n",
    "        result=evaluate(model,val_loader)\n",
    "        model.ecoph_end(ecop,result)\n",
    "        history.append(result)\n",
    "    return history\n"
   ]
  },
  {
   "cell_type": "code",
   "execution_count": 55,
   "id": "5fcf5da4",
   "metadata": {},
   "outputs": [],
   "source": [
    "model=MnistModel()"
   ]
  },
  {
   "cell_type": "code",
   "execution_count": 56,
   "id": "e1812175",
   "metadata": {},
   "outputs": [
    {
     "name": "stdout",
     "output_type": "stream",
     "text": [
      "Epoch [0], val_loss: 1.9657, val_acc: 0.6225\n",
      "Epoch [1], val_loss: 1.6921, val_acc: 0.7324\n",
      "Epoch [2], val_loss: 1.4878, val_acc: 0.7656\n",
      "Epoch [3], val_loss: 1.3338, val_acc: 0.7852\n",
      "Epoch [4], val_loss: 1.2157, val_acc: 0.7978\n"
     ]
    }
   ],
   "source": [
    "history1 = fit(5, 0.001, model, train_loader, val_loader)"
   ]
  },
  {
   "cell_type": "code",
   "execution_count": 58,
   "id": "f888b7ba",
   "metadata": {},
   "outputs": [
    {
     "name": "stdout",
     "output_type": "stream",
     "text": [
      "Epoch [0], val_loss: 1.0647, val_acc: 0.8097\n",
      "Epoch [1], val_loss: 1.0013, val_acc: 0.8150\n",
      "Epoch [2], val_loss: 0.9489, val_acc: 0.8204\n",
      "Epoch [3], val_loss: 0.9048, val_acc: 0.8259\n",
      "Epoch [4], val_loss: 0.8671, val_acc: 0.8297\n"
     ]
    }
   ],
   "source": [
    "history2 = fit(5, 0.001, model, train_loader, val_loader)"
   ]
  },
  {
   "cell_type": "code",
   "execution_count": 59,
   "id": "57d45c1a",
   "metadata": {},
   "outputs": [
    {
     "name": "stdout",
     "output_type": "stream",
     "text": [
      "Epoch [0], val_loss: 0.8347, val_acc: 0.8329\n",
      "Epoch [1], val_loss: 0.8064, val_acc: 0.8351\n",
      "Epoch [2], val_loss: 0.7814, val_acc: 0.8378\n",
      "Epoch [3], val_loss: 0.7593, val_acc: 0.8409\n",
      "Epoch [4], val_loss: 0.7395, val_acc: 0.8423\n"
     ]
    }
   ],
   "source": [
    "history3 = fit(5, 0.001, model, train_loader, val_loader)"
   ]
  },
  {
   "cell_type": "code",
   "execution_count": 60,
   "id": "c3c6246a",
   "metadata": {},
   "outputs": [
    {
     "name": "stdout",
     "output_type": "stream",
     "text": [
      "Epoch [0], val_loss: 0.7217, val_acc: 0.8434\n",
      "Epoch [1], val_loss: 0.7055, val_acc: 0.8445\n",
      "Epoch [2], val_loss: 0.6908, val_acc: 0.8465\n",
      "Epoch [3], val_loss: 0.6774, val_acc: 0.8484\n",
      "Epoch [4], val_loss: 0.6651, val_acc: 0.8493\n"
     ]
    }
   ],
   "source": [
    "history4 = fit(5, 0.001, model, train_loader, val_loader)"
   ]
  },
  {
   "cell_type": "code",
   "execution_count": null,
   "id": "c3ee07dc",
   "metadata": {},
   "outputs": [],
   "source": []
  },
  {
   "cell_type": "code",
   "execution_count": null,
   "id": "78719859",
   "metadata": {},
   "outputs": [],
   "source": []
  },
  {
   "cell_type": "code",
   "execution_count": 61,
   "id": "484eb600",
   "metadata": {},
   "outputs": [],
   "source": [
    "def predict_image(model,image):\n",
    "    xb=image.unsqueeze(0)\n",
    "    yb=model(xb)\n",
    "    _,pred=torch.max(yb,dim=1)\n",
    "    return pred[0].item()"
   ]
  },
  {
   "cell_type": "code",
   "execution_count": 62,
   "id": "f7272f7d",
   "metadata": {},
   "outputs": [],
   "source": [
    "# Define test dataset\n",
    "test_dataset = MNIST(root='data/', \n",
    "                     train=False,\n",
    "                     transform=transforms.ToTensor())"
   ]
  },
  {
   "cell_type": "code",
   "execution_count": 63,
   "id": "c142a4be",
   "metadata": {},
   "outputs": [
    {
     "name": "stdout",
     "output_type": "stream",
     "text": [
      "Label: 6 , Predicted: 6\n"
     ]
    },
    {
     "data": {
      "image/png": "[encoded data removed]",
      "text/plain": [
       "<Figure size 432x288 with 1 Axes>"
      ]
     },
     "metadata": {
      "needs_background": "light"
     },
     "output_type": "display_data"
    }
   ],
   "source": [
    "img, label = test_dataset[100]\n",
    "plt.imshow(img[0], cmap='gray')\n",
    "print('Label:', label, ', Predicted:', predict_image( model,img))"
   ]
  },
  {
   "cell_type": "code",
   "execution_count": 64,
   "id": "4a432bf9",
   "metadata": {},
   "outputs": [
    {
     "name": "stdout",
     "output_type": "stream",
     "text": [
      "Label: 7 , Predicted: 7\n"
     ]
    },
    {
     "data": {
      "image/png": "[encoded data removed]",
      "text/plain": [
       "<Figure size 432x288 with 1 Axes>"
      ]
     },
     "metadata": {
      "needs_background": "light"
     },
     "output_type": "display_data"
    },
    {
     "name": "stdout",
     "output_type": "stream",
     "text": [
      "Label: 2 , Predicted: 2\n"
     ]
    },
    {
     "data": {
      "image/png": "[encoded data removed]",
      "text/plain": [
       "<Figure size 432x288 with 1 Axes>"
      ]
     },
     "metadata": {
      "needs_background": "light"
     },
     "output_type": "display_data"
    },
    {
     "name": "stdout",
     "output_type": "stream",
     "text": [
      "Label: 1 , Predicted: 1\n"
     ]
    },
    {
     "data": {
      "image/png": "[encoded data removed]",
      "text/plain": [
       "<Figure size 432x288 with 1 Axes>"
      ]
     },
     "metadata": {
      "needs_background": "light"
     },
     "output_type": "display_data"
    },
    {
     "name": "stdout",
     "output_type": "stream",
     "text": [
      "Label: 0 , Predicted: 0\n"
     ]
    },
    {
     "data": {
      "image/png": "[encoded data removed]",
      "text/plain": [
       "<Figure size 432x288 with 1 Axes>"
      ]
     },
     "metadata": {
      "needs_background": "light"
     },
     "output_type": "display_data"
    },
    {
     "name": "stdout",
     "output_type": "stream",
     "text": [
      "Label: 4 , Predicted: 4\n"
     ]
    },
    {
     "data": {
      "image/png": "[encoded data removed]",
      "text/plain": [
       "<Figure size 432x288 with 1 Axes>"
      ]
     },
     "metadata": {
      "needs_background": "light"
     },
     "output_type": "display_data"
    }
   ],
   "source": [
    "for i in range(5):\n",
    "    img, label = test_dataset[i]\n",
    "    plt.imshow(img[0])\n",
    "    print('Label:', label, ', Predicted:', predict_image( model,img))\n",
    "    plt.show()\n"
   ]
  },
  {
   "cell_type": "code",
   "execution_count": null,
   "id": "b4d6e91e",
   "metadata": {},
   "outputs": [],
   "source": []
  }
 ],
 "metadata": {
  "kernelspec": {
   "display_name": "Python 3",
   "language": "python",
   "name": "python3"
  },
  "language_info": {
   "codemirror_mode": {
    "name": "ipython",
    "version": 3
   },
   "file_extension": ".py",
   "mimetype": "text/x-python",
   "name": "python",
   "nbconvert_exporter": "python",
   "pygments_lexer": "ipython3",
   "version": "3.8.12"
  }
 },
 "nbformat": 4,
 "nbformat_minor": 5
}
